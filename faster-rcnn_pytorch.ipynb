{
  "nbformat": 4,
  "nbformat_minor": 0,
  "metadata": {
    "colab": {
      "name": "DLS1.ipynb",
      "provenance": [],
      "collapsed_sections": [],
      "toc_visible": true,
      "include_colab_link": true
    },
    "kernelspec": {
      "name": "python3",
      "display_name": "Python 3"
    },
    "accelerator": "GPU"
  },
  "cells": [
    {
      "cell_type": "markdown",
      "metadata": {
        "id": "view-in-github",
        "colab_type": "text"
      },
      "source": [
        "<a href=\"https://colab.research.google.com/github/pulum03/ML/blob/master/faster-rcnn_pytorch.ipynb\" target=\"_parent\"><img src=\"https://colab.research.google.com/assets/colab-badge.svg\" alt=\"Open In Colab\"/></a>"
      ]
    },
    {
      "cell_type": "markdown",
      "metadata": {
        "id": "zoYNMUsNfAv6",
        "colab_type": "text"
      },
      "source": [
        "#Setting"
      ]
    },
    {
      "cell_type": "code",
      "metadata": {
        "id": "EwC1zbg5XCdk",
        "colab_type": "code",
        "colab": {}
      },
      "source": [
        "# pytorch 1.0.0 버전으로 설치하고, \n",
        "# git clone 해서 모델  옮기고, 그외 requirements 들 충족하도록 설치 (trello에 있음)"
      ],
      "execution_count": 0,
      "outputs": []
    },
    {
      "cell_type": "code",
      "metadata": {
        "id": "QHsxen5d_jxC",
        "colab_type": "code",
        "outputId": "6fa13d84-409e-4717-bfb5-6bbc35f379ce",
        "colab": {
          "base_uri": "https://localhost:8080/",
          "height": 35
        }
      },
      "source": [
        "!pip install -q torch==1.0.0 torchvision==0.2.1"
      ],
      "execution_count": 6,
      "outputs": [
        {
          "output_type": "stream",
          "text": [
            "\u001b[?25l\r\u001b[K     |██████                          | 10kB 18.7MB/s eta 0:00:01\r\u001b[K     |████████████                    | 20kB 4.3MB/s eta 0:00:01\r\u001b[K     |██████████████████              | 30kB 5.6MB/s eta 0:00:01\r\u001b[K     |████████████████████████        | 40kB 5.4MB/s eta 0:00:01\r\u001b[K     |██████████████████████████████  | 51kB 4.6MB/s eta 0:00:01\r\u001b[K     |████████████████████████████████| 61kB 3.5MB/s \n",
            "\u001b[?25h"
          ],
          "name": "stdout"
        }
      ]
    },
    {
      "cell_type": "code",
      "metadata": {
        "id": "kMbH9X8CEW1q",
        "colab_type": "code",
        "outputId": "527be980-474d-4581-9db6-9371c3601614",
        "colab": {
          "base_uri": "https://localhost:8080/",
          "height": 107
        }
      },
      "source": [
        "!git clone -b pytorch-1.0 https://github.com/jwyang/faster-rcnn.pytorch.git"
      ],
      "execution_count": 3,
      "outputs": [
        {
          "output_type": "stream",
          "text": [
            "Cloning into 'faster-rcnn.pytorch'...\n",
            "remote: Enumerating objects: 3846, done.\u001b[K\n",
            "remote: Total 3846 (delta 0), reused 0 (delta 0), pack-reused 3846\u001b[K\n",
            "Receiving objects: 100% (3846/3846), 6.21 MiB | 8.71 MiB/s, done.\n",
            "Resolving deltas: 100% (2608/2608), done.\n"
          ],
          "name": "stdout"
        }
      ]
    },
    {
      "cell_type": "code",
      "metadata": {
        "id": "keUhp__CUUsl",
        "colab_type": "code",
        "colab": {
          "base_uri": "https://localhost:8080/",
          "height": 1000
        },
        "outputId": "b58dce25-1f68-4f79-bd38-6d35bd9cf1d2"
      },
      "source": [
        "!pip list"
      ],
      "execution_count": 7,
      "outputs": [
        {
          "output_type": "stream",
          "text": [
            "Package                  Version    \n",
            "------------------------ -----------\n",
            "absl-py                  0.9.0      \n",
            "alabaster                0.7.12     \n",
            "albumentations           0.1.12     \n",
            "altair                   4.0.0      \n",
            "asgiref                  3.2.3      \n",
            "astor                    0.8.1      \n",
            "astropy                  4.0        \n",
            "atari-py                 0.2.6      \n",
            "atomicwrites             1.3.0      \n",
            "attrs                    19.3.0     \n",
            "audioread                2.1.8      \n",
            "autograd                 1.3        \n",
            "Babel                    2.8.0      \n",
            "backcall                 0.1.0      \n",
            "backports.tempfile       1.0        \n",
            "backports.weakref        1.0.post1  \n",
            "beautifulsoup4           4.6.3      \n",
            "bleach                   3.1.0      \n",
            "blis                     0.2.4      \n",
            "bokeh                    1.4.0      \n",
            "boto                     2.49.0     \n",
            "boto3                    1.10.47    \n",
            "botocore                 1.13.47    \n",
            "Bottleneck               1.3.1      \n",
            "branca                   0.3.1      \n",
            "bs4                      0.0.1      \n",
            "bz2file                  0.98       \n",
            "cachetools               4.0.0      \n",
            "certifi                  2019.11.28 \n",
            "cffi                     1.13.2     \n",
            "chainer                  6.5.0      \n",
            "chardet                  3.0.4      \n",
            "chart-studio             1.0.0      \n",
            "Click                    7.0        \n",
            "cloudpickle              1.2.2      \n",
            "cmake                    3.12.0     \n",
            "colorlover               0.3.0      \n",
            "community                1.0.0b1    \n",
            "contextlib2              0.5.5      \n",
            "convertdate              2.2.0      \n",
            "coverage                 3.7.1      \n",
            "coveralls                0.5        \n",
            "crcmod                   1.7        \n",
            "cufflinks                0.17.0     \n",
            "cupy-cuda101             6.5.0      \n",
            "cvxopt                   1.2.3      \n",
            "cvxpy                    1.0.25     \n",
            "cycler                   0.10.0     \n",
            "cymem                    2.0.3      \n",
            "Cython                   0.29.14    \n",
            "daft                     0.0.4      \n",
            "dask                     2.9.1      \n",
            "dataclasses              0.7        \n",
            "datascience              0.10.6     \n",
            "decorator                4.4.1      \n",
            "defusedxml               0.6.0      \n",
            "descartes                1.1.0      \n",
            "dill                     0.3.1.1    \n",
            "distributed              1.25.3     \n",
            "Django                   3.0.2      \n",
            "dlib                     19.18.0    \n",
            "dm-sonnet                1.35       \n",
            "docopt                   0.6.2      \n",
            "docutils                 0.15.2     \n",
            "dopamine-rl              1.0.5      \n",
            "earthengine-api          0.1.209    \n",
            "easydict                 1.9        \n",
            "ecos                     2.0.7.post1\n",
            "editdistance             0.5.3      \n",
            "en-core-web-sm           2.1.0      \n",
            "entrypoints              0.3        \n",
            "et-xmlfile               1.0.1      \n",
            "fa2                      0.3.5      \n",
            "fancyimpute              0.4.3      \n",
            "fastai                   1.0.60     \n",
            "fastcache                1.1.0      \n",
            "fastdtw                  0.3.4      \n",
            "fastprogress             0.2.2      \n",
            "fastrlock                0.4        \n",
            "fbprophet                0.5        \n",
            "feather-format           0.4.0      \n",
            "featuretools             0.4.1      \n",
            "filelock                 3.0.12     \n",
            "fix-yahoo-finance        0.0.22     \n",
            "Flask                    1.1.1      \n",
            "folium                   0.8.3      \n",
            "fsspec                   0.6.2      \n",
            "future                   0.16.0     \n",
            "gast                     0.2.2      \n",
            "GDAL                     2.2.2      \n",
            "gdown                    3.6.4      \n",
            "gensim                   3.6.0      \n",
            "geographiclib            1.50       \n",
            "geopy                    1.17.0     \n",
            "gevent                   1.4.0      \n",
            "gin-config               0.3.0      \n",
            "glob2                    0.7        \n",
            "google                   2.0.3      \n",
            "google-api-core          1.15.0     \n",
            "google-api-python-client 1.7.11     \n",
            "google-auth              1.4.2      \n",
            "google-auth-httplib2     0.0.3      \n",
            "google-auth-oauthlib     0.4.1      \n",
            "google-cloud-bigquery    1.21.0     \n",
            "google-cloud-core        1.0.3      \n",
            "google-cloud-datastore   1.8.0      \n",
            "google-cloud-language    1.2.0      \n",
            "google-cloud-storage     1.16.2     \n",
            "google-cloud-translate   1.5.0      \n",
            "google-colab             1.0.0      \n",
            "google-pasta             0.1.8      \n",
            "google-resumable-media   0.4.1      \n",
            "googleapis-common-protos 1.6.0      \n",
            "googledrivedownloader    0.4        \n",
            "graph-nets               1.0.5      \n",
            "graphviz                 0.10.1     \n",
            "greenlet                 0.4.15     \n",
            "grpcio                   1.15.0     \n",
            "gspread                  3.0.1      \n",
            "gspread-dataframe        3.0.3      \n",
            "gunicorn                 20.0.4     \n",
            "gym                      0.15.4     \n",
            "h5py                     2.8.0      \n",
            "HeapDict                 1.0.1      \n",
            "holidays                 0.9.12     \n",
            "html5lib                 1.0.1      \n",
            "httpimport               0.5.18     \n",
            "httplib2                 0.11.3     \n",
            "humanize                 0.5.1      \n",
            "hyperopt                 0.1.2      \n",
            "ideep4py                 2.0.0.post3\n",
            "idna                     2.8        \n",
            "image                    1.5.27     \n",
            "imageio                  2.4.1      \n",
            "imagesize                1.2.0      \n",
            "imbalanced-learn         0.4.3      \n",
            "imblearn                 0.0        \n",
            "imgaug                   0.2.9      \n",
            "importlib-metadata       1.3.0      \n",
            "imutils                  0.5.3      \n",
            "inflect                  2.1.0      \n",
            "intel-openmp             2020.0.133 \n",
            "intervaltree             2.1.0      \n",
            "ipykernel                4.6.1      \n",
            "ipython                  5.5.0      \n",
            "ipython-genutils         0.2.0      \n",
            "ipython-sql              0.3.9      \n",
            "ipywidgets               7.5.1      \n",
            "itsdangerous             1.1.0      \n",
            "jax                      0.1.52     \n",
            "jaxlib                   0.1.36     \n",
            "jdcal                    1.4.1      \n",
            "jedi                     0.15.2     \n",
            "jieba                    0.40       \n",
            "Jinja2                   2.10.3     \n",
            "jmespath                 0.9.4      \n",
            "joblib                   0.14.1     \n",
            "jpeg4py                  0.1.4      \n",
            "jsonschema               2.6.0      \n",
            "jupyter                  1.0.0      \n",
            "jupyter-client           5.3.4      \n",
            "jupyter-console          5.2.0      \n",
            "jupyter-core             4.6.1      \n",
            "kaggle                   1.5.6      \n",
            "kapre                    0.1.3.1    \n",
            "Keras                    2.2.5      \n",
            "Keras-Applications       1.0.8      \n",
            "Keras-Preprocessing      1.1.0      \n",
            "keras-vis                0.4.1      \n",
            "kfac                     0.2.0      \n",
            "kiwisolver               1.1.0      \n",
            "knnimpute                0.1.0      \n",
            "librosa                  0.6.3      \n",
            "lightgbm                 2.2.3      \n",
            "llvmlite                 0.31.0     \n",
            "lmdb                     0.98       \n",
            "lucid                    0.3.8      \n",
            "lunardate                0.2.0      \n",
            "lxml                     4.2.6      \n",
            "magenta                  0.3.19     \n",
            "Markdown                 3.1.1      \n",
            "MarkupSafe               1.1.1      \n",
            "matplotlib               3.1.2      \n",
            "matplotlib-venn          0.11.5     \n",
            "mesh-tensorflow          0.1.8      \n",
            "mido                     1.2.6      \n",
            "mir-eval                 0.5        \n",
            "missingno                0.4.2      \n",
            "mistune                  0.8.4      \n",
            "mizani                   0.6.0      \n",
            "mkl                      2019.0     \n",
            "mlxtend                  0.14.0     \n",
            "more-itertools           8.0.2      \n",
            "moviepy                  0.2.3.5    \n",
            "mpi4py                   3.0.3      \n",
            "mpmath                   1.1.0      \n",
            "msgpack                  0.5.6      \n",
            "multiprocess             0.70.9     \n",
            "multitasking             0.0.9      \n",
            "murmurhash               1.0.2      \n",
            "music21                  5.5.0      \n",
            "natsort                  5.5.0      \n",
            "nbconvert                5.6.1      \n",
            "nbformat                 5.0.3      \n",
            "networkx                 2.4        \n",
            "nibabel                  2.3.3      \n",
            "nltk                     3.2.5      \n",
            "notebook                 5.2.2      \n",
            "np-utils                 0.5.12.1   \n",
            "numba                    0.47.0     \n",
            "numexpr                  2.7.1      \n",
            "numpy                    1.17.5     \n",
            "nvidia-ml-py3            7.352.0    \n",
            "oauth2client             4.1.3      \n",
            "oauthlib                 3.1.0      \n",
            "okgrade                  0.4.3      \n",
            "opencv-contrib-python    4.1.2.30   \n",
            "opencv-python            4.1.2.30   \n",
            "openpyxl                 2.5.9      \n",
            "opt-einsum               3.1.0      \n",
            "osqp                     0.6.1      \n",
            "packaging                20.0       \n",
            "palettable               3.3.0      \n",
            "pandas                   0.25.3     \n",
            "pandas-datareader        0.7.4      \n",
            "pandas-gbq               0.11.0     \n",
            "pandas-profiling         1.4.1      \n",
            "pandocfilters            1.4.2      \n",
            "parso                    0.5.2      \n",
            "pathlib                  1.0.1      \n",
            "patsy                    0.5.1      \n",
            "pexpect                  4.7.0      \n",
            "pickleshare              0.7.5      \n",
            "Pillow                   6.2.2      \n",
            "pip                      19.3.1     \n",
            "pip-tools                4.2.0      \n",
            "plac                     0.9.6      \n",
            "plotly                   4.4.1      \n",
            "plotnine                 0.6.0      \n",
            "pluggy                   0.7.1      \n",
            "portpicker               1.2.0      \n",
            "prefetch-generator       1.0.1      \n",
            "preshed                  2.0.1      \n",
            "pretty-midi              0.2.8      \n",
            "prettytable              0.7.2      \n",
            "progressbar2             3.38.0     \n",
            "prometheus-client        0.7.1      \n",
            "promise                  2.3        \n",
            "prompt-toolkit           1.0.18     \n",
            "protobuf                 3.10.0     \n",
            "psutil                   5.4.8      \n",
            "psycopg2                 2.7.6.1    \n",
            "ptyprocess               0.6.0      \n",
            "py                       1.8.1      \n",
            "pyarrow                  0.14.1     \n",
            "pyasn1                   0.4.8      \n",
            "pyasn1-modules           0.2.7      \n",
            "pycocotools              2.0.0      \n",
            "pycparser                2.19       \n",
            "pydata-google-auth       0.2.1      \n",
            "pydot                    1.3.0      \n",
            "pydot-ng                 2.0.0      \n",
            "pydotplus                2.0.2      \n",
            "PyDrive                  1.3.1      \n",
            "pyemd                    0.5.1      \n",
            "pyglet                   1.3.2      \n",
            "Pygments                 2.1.3      \n",
            "pygobject                3.26.1     \n",
            "pymc3                    3.7        \n",
            "PyMeeus                  0.3.6      \n",
            "pymongo                  3.10.0     \n",
            "pymystem3                0.2.0      \n",
            "PyOpenGL                 3.1.5      \n",
            "pyparsing                2.4.6      \n",
            "pypng                    0.0.20     \n",
            "pyrsistent               0.15.7     \n",
            "pysndfile                1.3.8      \n",
            "PySocks                  1.7.1      \n",
            "pystan                   2.19.1.1   \n",
            "pytest                   3.6.4      \n",
            "python-apt               1.6.4      \n",
            "python-chess             0.23.11    \n",
            "python-dateutil          2.6.1      \n",
            "python-louvain           0.13       \n",
            "python-rtmidi            1.3.1      \n",
            "python-slugify           4.0.0      \n",
            "python-utils             2.3.0      \n",
            "pytz                     2018.9     \n",
            "PyWavelets               1.1.1      \n",
            "PyYAML                   3.13       \n",
            "pyzmq                    17.0.0     \n",
            "qtconsole                4.6.0      \n",
            "regex                    2019.12.20 \n",
            "requests                 2.21.0     \n",
            "requests-oauthlib        1.3.0      \n",
            "resampy                  0.2.2      \n",
            "retrying                 1.3.3      \n",
            "rpy2                     2.9.5      \n",
            "rsa                      4.0        \n",
            "s3fs                     0.4.0      \n",
            "s3transfer               0.2.1      \n",
            "scikit-image             0.16.2     \n",
            "scikit-learn             0.22.1     \n",
            "scipy                    1.4.1      \n",
            "screen-resolution-extra  0.0.0      \n",
            "scs                      2.1.1.post2\n",
            "seaborn                  0.9.0      \n",
            "semantic-version         2.8.4      \n",
            "Send2Trash               1.5.0      \n",
            "setuptools               42.0.2     \n",
            "setuptools-git           1.2        \n",
            "Shapely                  1.6.4.post2\n",
            "simplegeneric            0.8.1      \n",
            "six                      1.12.0     \n",
            "sklearn                  0.0        \n",
            "sklearn-pandas           1.8.0      \n",
            "smart-open               1.9.0      \n",
            "snowballstemmer          2.0.0      \n",
            "sortedcontainers         2.1.0      \n",
            "spacy                    2.1.9      \n",
            "Sphinx                   1.8.5      \n",
            "sphinxcontrib-websupport 1.1.2      \n",
            "SQLAlchemy               1.3.12     \n",
            "sqlparse                 0.3.0      \n",
            "srsly                    1.0.1      \n",
            "stable-baselines         2.2.1      \n",
            "statsmodels              0.10.2     \n",
            "sympy                    1.1.1      \n",
            "tables                   3.4.4      \n",
            "tabulate                 0.8.6      \n",
            "tblib                    1.6.0      \n",
            "tensor2tensor            1.14.1     \n",
            "tensorboard              1.15.0     \n",
            "tensorboardcolab         0.0.22     \n",
            "tensorflow               1.15.0     \n",
            "tensorflow-datasets      1.3.2      \n",
            "tensorflow-estimator     1.15.1     \n",
            "tensorflow-gan           2.0.0      \n",
            "tensorflow-hub           0.7.0      \n",
            "tensorflow-metadata      0.15.2     \n",
            "tensorflow-privacy       0.2.2      \n",
            "tensorflow-probability   0.7.0      \n",
            "termcolor                1.1.0      \n",
            "terminado                0.8.3      \n",
            "testpath                 0.4.4      \n",
            "text-unidecode           1.3        \n",
            "textblob                 0.15.3     \n",
            "textgenrnn               1.4.1      \n",
            "tflearn                  0.3.2      \n",
            "Theano                   1.0.4      \n",
            "thinc                    7.0.8      \n",
            "toolz                    0.10.0     \n",
            "torch                    1.0.0      \n",
            "torchsummary             1.5.1      \n",
            "torchtext                0.3.1      \n",
            "torchvision              0.2.1      \n",
            "tornado                  4.5.3      \n",
            "tqdm                     4.28.1     \n",
            "traitlets                4.3.3      \n",
            "tweepy                   3.6.0      \n",
            "typing                   3.6.6      \n",
            "typing-extensions        3.6.6      \n",
            "tzlocal                  1.5.1      \n",
            "umap-learn               0.3.10     \n",
            "uritemplate              3.0.1      \n",
            "urllib3                  1.24.3     \n",
            "vega-datasets            0.8.0      \n",
            "wasabi                   0.6.0      \n",
            "wcwidth                  0.1.8      \n",
            "webencodings             0.5.1      \n",
            "Werkzeug                 0.16.0     \n",
            "wheel                    0.33.6     \n",
            "widgetsnbextension       3.5.1      \n",
            "wordcloud                1.5.0      \n",
            "wrapt                    1.11.2     \n",
            "xarray                   0.14.1     \n",
            "xgboost                  0.90       \n",
            "xkit                     0.0.0      \n",
            "xlrd                     1.1.0      \n",
            "xlwt                     1.3.0      \n",
            "yellowbrick              0.9.1      \n",
            "zict                     1.0.0      \n",
            "zipp                     0.6.0      \n",
            "zmq                      0.0.0      \n"
          ],
          "name": "stdout"
        }
      ]
    },
    {
      "cell_type": "code",
      "metadata": {
        "id": "FLAa75lwBUT3",
        "colab_type": "code",
        "outputId": "8ccc48e3-9b1e-49e1-ce70-6248f78e78cc",
        "colab": {
          "base_uri": "https://localhost:8080/",
          "height": 55
        }
      },
      "source": [
        "#!git clone https://github.com/jwyang/faster-rcnn.pytorch.git"
      ],
      "execution_count": 0,
      "outputs": [
        {
          "output_type": "stream",
          "text": [
            "fatal: destination path 'faster-rcnn.pytorch' already exists and is not an empty directory.\n"
          ],
          "name": "stdout"
        }
      ]
    },
    {
      "cell_type": "code",
      "metadata": {
        "id": "fuXGzooMRSwP",
        "colab_type": "code",
        "colab": {}
      },
      "source": [
        "#!rm -rf faster-rcnn.pytorch"
      ],
      "execution_count": 0,
      "outputs": []
    },
    {
      "cell_type": "code",
      "metadata": {
        "id": "lMgCYDsgGJFY",
        "colab_type": "code",
        "outputId": "383c2abc-7ee0-4554-a307-47104c9bc293",
        "colab": {
          "base_uri": "https://localhost:8080/",
          "height": 35
        }
      },
      "source": [
        "#!git branch"
      ],
      "execution_count": 8,
      "outputs": [
        {
          "output_type": "stream",
          "text": [
            "fatal: not a git repository (or any of the parent directories): .git\n"
          ],
          "name": "stdout"
        }
      ]
    },
    {
      "cell_type": "code",
      "metadata": {
        "id": "NyCzJArrGVqM",
        "colab_type": "code",
        "outputId": "8848cd49-3b25-407c-8595-55ca1275bafb",
        "colab": {
          "base_uri": "https://localhost:8080/",
          "height": 99
        }
      },
      "source": [
        "import tensorflow as tf\n",
        "tf.test.gpu_device_name()"
      ],
      "execution_count": 9,
      "outputs": [
        {
          "output_type": "display_data",
          "data": {
            "text/html": [
              "<p style=\"color: red;\">\n",
              "The default version of TensorFlow in Colab will soon switch to TensorFlow 2.x.<br>\n",
              "We recommend you <a href=\"https://www.tensorflow.org/guide/migrate\" target=\"_blank\">upgrade</a> now \n",
              "or ensure your notebook will continue to use TensorFlow 1.x via the <code>%tensorflow_version 1.x</code> magic:\n",
              "<a href=\"https://colab.research.google.com/notebooks/tensorflow_version.ipynb\" target=\"_blank\">more info</a>.</p>\n"
            ],
            "text/plain": [
              "<IPython.core.display.HTML object>"
            ]
          },
          "metadata": {
            "tags": []
          }
        },
        {
          "output_type": "execute_result",
          "data": {
            "text/plain": [
              "'/device:GPU:0'"
            ]
          },
          "metadata": {
            "tags": []
          },
          "execution_count": 9
        }
      ]
    },
    {
      "cell_type": "code",
      "metadata": {
        "id": "4ayWXcUUVCtr",
        "colab_type": "code",
        "colab": {
          "base_uri": "https://localhost:8080/",
          "height": 35
        },
        "outputId": "1d0de490-2879-4eb1-d64f-fba546e90a33"
      },
      "source": [
        "import torch\n",
        "print(torch.__version__)"
      ],
      "execution_count": 10,
      "outputs": [
        {
          "output_type": "stream",
          "text": [
            "1.0.0\n"
          ],
          "name": "stdout"
        }
      ]
    },
    {
      "cell_type": "markdown",
      "metadata": {
        "id": "rKxwSjoVe5AU",
        "colab_type": "text"
      },
      "source": [
        "#Data Preparation"
      ]
    },
    {
      "cell_type": "code",
      "metadata": {
        "id": "Mq6ucbLFM9pV",
        "colab_type": "code",
        "outputId": "3a99dee0-0d52-4630-de0a-3ec78f164922",
        "colab": {
          "base_uri": "https://localhost:8080/",
          "height": 1000
        }
      },
      "source": [
        "!pip install https://github.com/fastai/fastai/archive/master.zip\n",
        "!pip install opencv-python\n",
        "!apt update && apt install -y libsm6 libxext6\n",
        "!mkdir data\n",
        "!wget http://pjreddie.com/media/files/VOCtrainval_06-Nov-2007.tar -P data/\n",
        "!wget https://storage.googleapis.com/coco-dataset/external/PASCAL_VOC.zip -P data/\n",
        "!tar -xf data/VOCtrainval_06-Nov-2007.tar -C data/\n",
        "!unzip data/PASCAL_VOC.zip -d data/\n",
        "!rm -rf data/PASCAL_VOC.zip data/VOCtrainval_06-Nov-2007.tar"
      ],
      "execution_count": 11,
      "outputs": [
        {
          "output_type": "stream",
          "text": [
            "Collecting https://github.com/fastai/fastai/archive/master.zip\n",
            "\u001b[?25l  Downloading https://github.com/fastai/fastai/archive/master.zip\n",
            "\u001b[K     - 208.4MB 233kB/s\n",
            "\u001b[?25hRequirement already satisfied: bottleneck in /usr/local/lib/python3.6/dist-packages (from fastai==1.0.61.dev0) (1.3.1)\n",
            "Requirement already satisfied: fastprogress>=0.2.1 in /usr/local/lib/python3.6/dist-packages (from fastai==1.0.61.dev0) (0.2.2)\n",
            "Requirement already satisfied: beautifulsoup4 in /usr/local/lib/python3.6/dist-packages (from fastai==1.0.61.dev0) (4.6.3)\n",
            "Requirement already satisfied: matplotlib in /usr/local/lib/python3.6/dist-packages (from fastai==1.0.61.dev0) (3.1.2)\n",
            "Requirement already satisfied: numexpr in /usr/local/lib/python3.6/dist-packages (from fastai==1.0.61.dev0) (2.7.1)\n",
            "Requirement already satisfied: numpy>=1.15 in /usr/local/lib/python3.6/dist-packages (from fastai==1.0.61.dev0) (1.17.5)\n",
            "Requirement already satisfied: nvidia-ml-py3 in /usr/local/lib/python3.6/dist-packages (from fastai==1.0.61.dev0) (7.352.0)\n",
            "Requirement already satisfied: pandas in /usr/local/lib/python3.6/dist-packages (from fastai==1.0.61.dev0) (0.25.3)\n",
            "Requirement already satisfied: packaging in /usr/local/lib/python3.6/dist-packages (from fastai==1.0.61.dev0) (20.0)\n",
            "Requirement already satisfied: Pillow in /usr/local/lib/python3.6/dist-packages (from fastai==1.0.61.dev0) (6.2.2)\n",
            "Requirement already satisfied: pyyaml in /usr/local/lib/python3.6/dist-packages (from fastai==1.0.61.dev0) (3.13)\n",
            "Requirement already satisfied: requests in /usr/local/lib/python3.6/dist-packages (from fastai==1.0.61.dev0) (2.21.0)\n",
            "Requirement already satisfied: scipy in /usr/local/lib/python3.6/dist-packages (from fastai==1.0.61.dev0) (1.4.1)\n",
            "Requirement already satisfied: torch>=1.0.0 in /usr/local/lib/python3.6/dist-packages (from fastai==1.0.61.dev0) (1.0.0)\n",
            "Requirement already satisfied: spacy>=2.0.18 in /usr/local/lib/python3.6/dist-packages (from fastai==1.0.61.dev0) (2.1.9)\n",
            "Requirement already satisfied: torchvision in /usr/local/lib/python3.6/dist-packages (from fastai==1.0.61.dev0) (0.2.1)\n",
            "Requirement already satisfied: dataclasses in /usr/local/lib/python3.6/dist-packages (from fastai==1.0.61.dev0) (0.7)\n",
            "Requirement already satisfied: kiwisolver>=1.0.1 in /usr/local/lib/python3.6/dist-packages (from matplotlib->fastai==1.0.61.dev0) (1.1.0)\n",
            "Requirement already satisfied: python-dateutil>=2.1 in /usr/local/lib/python3.6/dist-packages (from matplotlib->fastai==1.0.61.dev0) (2.6.1)\n",
            "Requirement already satisfied: cycler>=0.10 in /usr/local/lib/python3.6/dist-packages (from matplotlib->fastai==1.0.61.dev0) (0.10.0)\n",
            "Requirement already satisfied: pyparsing!=2.0.4,!=2.1.2,!=2.1.6,>=2.0.1 in /usr/local/lib/python3.6/dist-packages (from matplotlib->fastai==1.0.61.dev0) (2.4.6)\n",
            "Requirement already satisfied: pytz>=2017.2 in /usr/local/lib/python3.6/dist-packages (from pandas->fastai==1.0.61.dev0) (2018.9)\n",
            "Requirement already satisfied: six in /usr/local/lib/python3.6/dist-packages (from packaging->fastai==1.0.61.dev0) (1.12.0)\n",
            "Requirement already satisfied: chardet<3.1.0,>=3.0.2 in /usr/local/lib/python3.6/dist-packages (from requests->fastai==1.0.61.dev0) (3.0.4)\n",
            "Requirement already satisfied: idna<2.9,>=2.5 in /usr/local/lib/python3.6/dist-packages (from requests->fastai==1.0.61.dev0) (2.8)\n",
            "Requirement already satisfied: certifi>=2017.4.17 in /usr/local/lib/python3.6/dist-packages (from requests->fastai==1.0.61.dev0) (2019.11.28)\n",
            "Requirement already satisfied: urllib3<1.25,>=1.21.1 in /usr/local/lib/python3.6/dist-packages (from requests->fastai==1.0.61.dev0) (1.24.3)\n",
            "Requirement already satisfied: thinc<7.1.0,>=7.0.8 in /usr/local/lib/python3.6/dist-packages (from spacy>=2.0.18->fastai==1.0.61.dev0) (7.0.8)\n",
            "Requirement already satisfied: cymem<2.1.0,>=2.0.2 in /usr/local/lib/python3.6/dist-packages (from spacy>=2.0.18->fastai==1.0.61.dev0) (2.0.3)\n",
            "Requirement already satisfied: blis<0.3.0,>=0.2.2 in /usr/local/lib/python3.6/dist-packages (from spacy>=2.0.18->fastai==1.0.61.dev0) (0.2.4)\n",
            "Requirement already satisfied: wasabi<1.1.0,>=0.2.0 in /usr/local/lib/python3.6/dist-packages (from spacy>=2.0.18->fastai==1.0.61.dev0) (0.6.0)\n",
            "Requirement already satisfied: preshed<2.1.0,>=2.0.1 in /usr/local/lib/python3.6/dist-packages (from spacy>=2.0.18->fastai==1.0.61.dev0) (2.0.1)\n",
            "Requirement already satisfied: plac<1.0.0,>=0.9.6 in /usr/local/lib/python3.6/dist-packages (from spacy>=2.0.18->fastai==1.0.61.dev0) (0.9.6)\n",
            "Requirement already satisfied: srsly<1.1.0,>=0.0.6 in /usr/local/lib/python3.6/dist-packages (from spacy>=2.0.18->fastai==1.0.61.dev0) (1.0.1)\n",
            "Requirement already satisfied: murmurhash<1.1.0,>=0.28.0 in /usr/local/lib/python3.6/dist-packages (from spacy>=2.0.18->fastai==1.0.61.dev0) (1.0.2)\n",
            "Requirement already satisfied: setuptools in /usr/local/lib/python3.6/dist-packages (from kiwisolver>=1.0.1->matplotlib->fastai==1.0.61.dev0) (42.0.2)\n",
            "Requirement already satisfied: tqdm<5.0.0,>=4.10.0 in /usr/local/lib/python3.6/dist-packages (from thinc<7.1.0,>=7.0.8->spacy>=2.0.18->fastai==1.0.61.dev0) (4.28.1)\n",
            "Building wheels for collected packages: fastai\n",
            "  Building wheel for fastai (setup.py) ... \u001b[?25l\u001b[?25hdone\n",
            "  Created wheel for fastai: filename=fastai-1.0.61.dev0-cp36-none-any.whl size=237453 sha256=e5b34f1a0de7a5b524ca223cca97b6c3042aef0f90ba8a2095cc210488a2617f\n",
            "  Stored in directory: /tmp/pip-ephem-wheel-cache-4qhh1yn8/wheels/64/3d/9f/d12a217aa2531321c5b9ae96288fcae2687d3b744376e8f94f\n",
            "Successfully built fastai\n",
            "Installing collected packages: fastai\n",
            "  Found existing installation: fastai 1.0.60\n",
            "    Uninstalling fastai-1.0.60:\n",
            "      Successfully uninstalled fastai-1.0.60\n",
            "Successfully installed fastai-1.0.61.dev0\n",
            "Requirement already satisfied: opencv-python in /usr/local/lib/python3.6/dist-packages (4.1.2.30)\n",
            "Requirement already satisfied: numpy>=1.11.3 in /usr/local/lib/python3.6/dist-packages (from opencv-python) (1.17.5)\n",
            "Get:1 http://security.ubuntu.com/ubuntu bionic-security InRelease [88.7 kB]\n",
            "Hit:2 http://ppa.launchpad.net/graphics-drivers/ppa/ubuntu bionic InRelease\n",
            "Hit:3 http://archive.ubuntu.com/ubuntu bionic InRelease\n",
            "Get:4 http://archive.ubuntu.com/ubuntu bionic-updates InRelease [88.7 kB]\n",
            "Get:5 http://ppa.launchpad.net/marutter/c2d4u3.5/ubuntu bionic InRelease [15.4 kB]\n",
            "Get:6 http://archive.ubuntu.com/ubuntu bionic-backports InRelease [74.6 kB]\n",
            "Get:7 https://cloud.r-project.org/bin/linux/ubuntu bionic-cran35/ InRelease [3,626 B]\n",
            "Ign:8 https://developer.download.nvidia.com/compute/cuda/repos/ubuntu1804/x86_64  InRelease\n",
            "Ign:9 https://developer.download.nvidia.com/compute/machine-learning/repos/ubuntu1804/x86_64  InRelease\n",
            "Hit:10 https://developer.download.nvidia.com/compute/cuda/repos/ubuntu1804/x86_64  Release\n",
            "Get:11 https://developer.download.nvidia.com/compute/machine-learning/repos/ubuntu1804/x86_64  Release [564 B]\n",
            "Get:12 http://ppa.launchpad.net/marutter/c2d4u3.5/ubuntu bionic/main Sources [1,749 kB]\n",
            "Get:13 https://developer.download.nvidia.com/compute/machine-learning/repos/ubuntu1804/x86_64  Release.gpg [833 B]\n",
            "Get:14 http://ppa.launchpad.net/marutter/c2d4u3.5/ubuntu bionic/main amd64 Packages [844 kB]\n",
            "Get:15 http://security.ubuntu.com/ubuntu bionic-security/universe amd64 Packages [803 kB]\n",
            "Get:16 http://security.ubuntu.com/ubuntu bionic-security/main amd64 Packages [777 kB]\n",
            "Get:17 http://security.ubuntu.com/ubuntu bionic-security/restricted amd64 Packages [21.8 kB]\n",
            "Get:18 http://archive.ubuntu.com/ubuntu bionic-updates/restricted amd64 Packages [35.5 kB]\n",
            "Get:19 http://archive.ubuntu.com/ubuntu bionic-updates/main amd64 Packages [1,074 kB]\n",
            "Get:20 http://archive.ubuntu.com/ubuntu bionic-updates/universe amd64 Packages [1,325 kB]\n",
            "Get:21 http://archive.ubuntu.com/ubuntu bionic-updates/multiverse amd64 Packages [10.8 kB]\n",
            "Get:22 http://archive.ubuntu.com/ubuntu bionic-backports/universe amd64 Packages [4,241 B]\n",
            "Get:23 https://cloud.r-project.org/bin/linux/ubuntu bionic-cran35/ Packages [81.6 kB]\n",
            "Get:25 https://developer.download.nvidia.com/compute/machine-learning/repos/ubuntu1804/x86_64  Packages [30.4 kB]\n",
            "Fetched 7,030 kB in 2s (3,206 kB/s)\n",
            "Reading package lists... Done\n",
            "Building dependency tree       \n",
            "Reading state information... Done\n",
            "24 packages can be upgraded. Run 'apt list --upgradable' to see them.\n",
            "Reading package lists... Done\n",
            "Building dependency tree       \n",
            "Reading state information... Done\n",
            "libsm6 is already the newest version (2:1.2.2-1).\n",
            "libxext6 is already the newest version (2:1.3.3-1).\n",
            "The following package was automatically installed and is no longer required:\n",
            "  libnvidia-common-430\n",
            "Use 'apt autoremove' to remove it.\n",
            "0 upgraded, 0 newly installed, 0 to remove and 24 not upgraded.\n",
            "--2020-01-10 07:22:01--  http://pjreddie.com/media/files/VOCtrainval_06-Nov-2007.tar\n",
            "Resolving pjreddie.com (pjreddie.com)... 128.208.4.108\n",
            "Connecting to pjreddie.com (pjreddie.com)|128.208.4.108|:80... connected.\n",
            "HTTP request sent, awaiting response... 301 Moved Permanently\n",
            "Location: https://pjreddie.com/media/files/VOCtrainval_06-Nov-2007.tar [following]\n",
            "--2020-01-10 07:22:01--  https://pjreddie.com/media/files/VOCtrainval_06-Nov-2007.tar\n",
            "Connecting to pjreddie.com (pjreddie.com)|128.208.4.108|:443... connected.\n",
            "HTTP request sent, awaiting response... 200 OK\n",
            "Length: 460032000 (439M) [application/octet-stream]\n",
            "Saving to: ‘data/VOCtrainval_06-Nov-2007.tar’\n",
            "\n",
            "VOCtrainval_06-Nov- 100%[===================>] 438.72M  20.2MB/s    in 23s     \n",
            "\n",
            "2020-01-10 07:22:25 (19.0 MB/s) - ‘data/VOCtrainval_06-Nov-2007.tar’ saved [460032000/460032000]\n",
            "\n",
            "--2020-01-10 07:22:27--  https://storage.googleapis.com/coco-dataset/external/PASCAL_VOC.zip\n",
            "Resolving storage.googleapis.com (storage.googleapis.com)... 173.194.76.128, 2a00:1450:400c:c07::80\n",
            "Connecting to storage.googleapis.com (storage.googleapis.com)|173.194.76.128|:443... connected.\n",
            "HTTP request sent, awaiting response... 200 OK\n",
            "Length: 1998182 (1.9M) [application/zip]\n",
            "Saving to: ‘data/PASCAL_VOC.zip’\n",
            "\n",
            "PASCAL_VOC.zip      100%[===================>]   1.91M  --.-KB/s    in 0.01s   \n",
            "\n",
            "2020-01-10 07:22:28 (168 MB/s) - ‘data/PASCAL_VOC.zip’ saved [1998182/1998182]\n",
            "\n",
            "Archive:  data/PASCAL_VOC.zip\n",
            "   creating: data/PASCAL_VOC/\n",
            "  inflating: data/PASCAL_VOC/pascal_test2007.json  \n",
            "  inflating: data/PASCAL_VOC/pascal_train2007.json  \n",
            "  inflating: data/PASCAL_VOC/pascal_train2012.json  \n",
            "  inflating: data/PASCAL_VOC/pascal_val2007.json  \n",
            "  inflating: data/PASCAL_VOC/pascal_val2012.json  \n"
          ],
          "name": "stdout"
        }
      ]
    },
    {
      "cell_type": "markdown",
      "metadata": {
        "id": "9o6jKqK3d9oM",
        "colab_type": "text"
      },
      "source": [
        "Download pre-trained model"
      ]
    },
    {
      "cell_type": "code",
      "metadata": {
        "id": "IO2Im61We7f6",
        "colab_type": "code",
        "colab": {
          "base_uri": "https://localhost:8080/",
          "height": 127
        },
        "outputId": "e937c7a8-1b75-4383-b5d3-204ce2f6fd3e"
      },
      "source": [
        "from google.colab import drive\n",
        "drive.mount('/content/drive')"
      ],
      "execution_count": 42,
      "outputs": [
        {
          "output_type": "stream",
          "text": [
            "Go to this URL in a browser: https://accounts.google.com/o/oauth2/auth?client_id=947318989803-6bn6qk8qdgf4n4g3pfee6491hc0brc4i.apps.googleusercontent.com&redirect_uri=urn%3aietf%3awg%3aoauth%3a2.0%3aoob&response_type=code&scope=email%20https%3a%2f%2fwww.googleapis.com%2fauth%2fdocs.test%20https%3a%2f%2fwww.googleapis.com%2fauth%2fdrive%20https%3a%2f%2fwww.googleapis.com%2fauth%2fdrive.photos.readonly%20https%3a%2f%2fwww.googleapis.com%2fauth%2fpeopleapi.readonly\n",
            "\n",
            "Enter your authorization code:\n",
            "··········\n",
            "Mounted at /content/drive\n"
          ],
          "name": "stdout"
        }
      ]
    },
    {
      "cell_type": "code",
      "metadata": {
        "id": "M2BnbuZVlFep",
        "colab_type": "code",
        "colab": {
          "base_uri": "https://localhost:8080/",
          "height": 469
        },
        "outputId": "24113e56-d935-4bd6-da23-b8bdbaf4f3d8"
      },
      "source": [
        "!wget \"https://www.dropbox.com/s/iev3tkbz5wyyuz9/resnet101_caffe.pth\""
      ],
      "execution_count": 46,
      "outputs": [
        {
          "output_type": "stream",
          "text": [
            "--2020-01-10 08:31:32--  https://www.dropbox.com/s/iev3tkbz5wyyuz9/resnet101_caffe.pth\n",
            "Resolving www.dropbox.com (www.dropbox.com)... 162.125.8.1, 2620:100:6021:1::a27d:4101\n",
            "Connecting to www.dropbox.com (www.dropbox.com)|162.125.8.1|:443... connected.\n",
            "HTTP request sent, awaiting response... 301 Moved Permanently\n",
            "Location: /s/raw/iev3tkbz5wyyuz9/resnet101_caffe.pth [following]\n",
            "--2020-01-10 08:31:33--  https://www.dropbox.com/s/raw/iev3tkbz5wyyuz9/resnet101_caffe.pth\n",
            "Reusing existing connection to www.dropbox.com:443.\n",
            "HTTP request sent, awaiting response... 302 Found\n",
            "Location: https://uc14feffcd3e1204b78d5cf9ac08.dl.dropboxusercontent.com/cd/0/inline/Av54kVYRTHHDc2Mm6UkAm9dSPuqCD2z0hRAExDRo_cnKPRUc2DZMfkYLc3iLLY97kt83uavT1NsAc2vmOiNiEikkq-7M6aavT3wz83kkSBEFhQ/file# [following]\n",
            "--2020-01-10 08:31:33--  https://uc14feffcd3e1204b78d5cf9ac08.dl.dropboxusercontent.com/cd/0/inline/Av54kVYRTHHDc2Mm6UkAm9dSPuqCD2z0hRAExDRo_cnKPRUc2DZMfkYLc3iLLY97kt83uavT1NsAc2vmOiNiEikkq-7M6aavT3wz83kkSBEFhQ/file\n",
            "Resolving uc14feffcd3e1204b78d5cf9ac08.dl.dropboxusercontent.com (uc14feffcd3e1204b78d5cf9ac08.dl.dropboxusercontent.com)... 162.125.65.6, 2620:100:6021:6::a27d:4106\n",
            "Connecting to uc14feffcd3e1204b78d5cf9ac08.dl.dropboxusercontent.com (uc14feffcd3e1204b78d5cf9ac08.dl.dropboxusercontent.com)|162.125.65.6|:443... connected.\n",
            "HTTP request sent, awaiting response... 302 FOUND\n",
            "Location: /cd/0/inline2/Av5t9uohizj1Qqhy6dBbO_oSz8vPYnhXUv_wIaHrDpgmlmO5p-lOrSbWcO19TkgmZoQGPYQP6-FtiSHfRSJcBuNh_nWMJOGYsucCr_MqHuO2x8W0DioJKW1lGGz9vRDEiIwhaMowNDZXzv0SVKKr_eoBRHdFazNI7KcWEJVtrenIBRF_lUybJmC9srOi73u0K_4t7JLbUyF3AQZZVcNMlsOpG3iNQLbxgH0vZqqlOCZGl9oKlUcbkELPg4RYBtL6RkUwoppsrPeBM2gcBTDcYBPQD1I6VIsF3Atmm_k6-jr5t0YuubIsLaNaqzWaEK6yYYjiIhN_SMeoQb874fbVAi7M/file [following]\n",
            "--2020-01-10 08:31:34--  https://uc14feffcd3e1204b78d5cf9ac08.dl.dropboxusercontent.com/cd/0/inline2/Av5t9uohizj1Qqhy6dBbO_oSz8vPYnhXUv_wIaHrDpgmlmO5p-lOrSbWcO19TkgmZoQGPYQP6-FtiSHfRSJcBuNh_nWMJOGYsucCr_MqHuO2x8W0DioJKW1lGGz9vRDEiIwhaMowNDZXzv0SVKKr_eoBRHdFazNI7KcWEJVtrenIBRF_lUybJmC9srOi73u0K_4t7JLbUyF3AQZZVcNMlsOpG3iNQLbxgH0vZqqlOCZGl9oKlUcbkELPg4RYBtL6RkUwoppsrPeBM2gcBTDcYBPQD1I6VIsF3Atmm_k6-jr5t0YuubIsLaNaqzWaEK6yYYjiIhN_SMeoQb874fbVAi7M/file\n",
            "Reusing existing connection to uc14feffcd3e1204b78d5cf9ac08.dl.dropboxusercontent.com:443.\n",
            "HTTP request sent, awaiting response... 200 OK\n",
            "Length: 178678116 (170M) [application/octet-stream]\n",
            "Saving to: ‘resnet101_caffe.pth’\n",
            "\n",
            "resnet101_caffe.pth 100%[===================>] 170.40M  39.1MB/s    in 4.4s    \n",
            "\n",
            "2020-01-10 08:31:39 (39.1 MB/s) - ‘resnet101_caffe.pth’ saved [178678116/178678116]\n",
            "\n"
          ],
          "name": "stdout"
        }
      ]
    },
    {
      "cell_type": "markdown",
      "metadata": {
        "id": "ywQnDKPIe1b0",
        "colab_type": "text"
      },
      "source": [
        "#Compilation"
      ]
    },
    {
      "cell_type": "code",
      "metadata": {
        "id": "kgkM7GDtZbQZ",
        "colab_type": "code",
        "outputId": "4e2cbacf-99aa-4acf-a2d3-b8142b617bda",
        "colab": {
          "base_uri": "https://localhost:8080/",
          "height": 55
        }
      },
      "source": [
        "#!pip install -r requirements.txt"
      ],
      "execution_count": 0,
      "outputs": [
        {
          "output_type": "stream",
          "text": [
            "\u001b[31mERROR: Could not open requirements file: [Errno 2] No such file or directory: 'requirements.txt'\u001b[0m\n"
          ],
          "name": "stdout"
        }
      ]
    },
    {
      "cell_type": "code",
      "metadata": {
        "id": "c6iHs6AKeIcw",
        "colab_type": "code",
        "outputId": "f5383863-70d8-46b5-e51f-7e28c01f13df",
        "colab": {
          "base_uri": "https://localhost:8080/",
          "height": 53
        }
      },
      "source": [
        "%cd faster-rcnn.pytorch/lib\n",
        "!ls"
      ],
      "execution_count": 12,
      "outputs": [
        {
          "output_type": "stream",
          "text": [
            "/content/faster-rcnn.pytorch/lib\n",
            "datasets  model  pycocotools  roi_data_layer  setup.py\n"
          ],
          "name": "stdout"
        }
      ]
    },
    {
      "cell_type": "code",
      "metadata": {
        "id": "TGrxFzj7eZLM",
        "colab_type": "code",
        "outputId": "0c76ccbe-d280-428b-85e9-f8b2b5ac8c9c",
        "colab": {
          "base_uri": "https://localhost:8080/",
          "height": 1000
        }
      },
      "source": [
        "!python setup.py build develop"
      ],
      "execution_count": 13,
      "outputs": [
        {
          "output_type": "stream",
          "text": [
            "running build\n",
            "running build_py\n",
            "creating build\n",
            "creating build/lib.linux-x86_64-3.6\n",
            "creating build/lib.linux-x86_64-3.6/datasets\n",
            "copying datasets/coco.py -> build/lib.linux-x86_64-3.6/datasets\n",
            "copying datasets/pascal_voc_rbg.py -> build/lib.linux-x86_64-3.6/datasets\n",
            "copying datasets/ds_utils.py -> build/lib.linux-x86_64-3.6/datasets\n",
            "copying datasets/vg_eval.py -> build/lib.linux-x86_64-3.6/datasets\n",
            "copying datasets/imdb.py -> build/lib.linux-x86_64-3.6/datasets\n",
            "copying datasets/imagenet.py -> build/lib.linux-x86_64-3.6/datasets\n",
            "copying datasets/pascal_voc.py -> build/lib.linux-x86_64-3.6/datasets\n",
            "copying datasets/__init__.py -> build/lib.linux-x86_64-3.6/datasets\n",
            "copying datasets/factory.py -> build/lib.linux-x86_64-3.6/datasets\n",
            "copying datasets/voc_eval.py -> build/lib.linux-x86_64-3.6/datasets\n",
            "copying datasets/vg.py -> build/lib.linux-x86_64-3.6/datasets\n",
            "creating build/lib.linux-x86_64-3.6/model\n",
            "copying model/__init__.py -> build/lib.linux-x86_64-3.6/model\n",
            "creating build/lib.linux-x86_64-3.6/pycocotools\n",
            "copying pycocotools/coco.py -> build/lib.linux-x86_64-3.6/pycocotools\n",
            "copying pycocotools/mask.py -> build/lib.linux-x86_64-3.6/pycocotools\n",
            "copying pycocotools/cocoeval.py -> build/lib.linux-x86_64-3.6/pycocotools\n",
            "copying pycocotools/__init__.py -> build/lib.linux-x86_64-3.6/pycocotools\n",
            "creating build/lib.linux-x86_64-3.6/roi_data_layer\n",
            "copying roi_data_layer/roidb.py -> build/lib.linux-x86_64-3.6/roi_data_layer\n",
            "copying roi_data_layer/roibatchLoader.py -> build/lib.linux-x86_64-3.6/roi_data_layer\n",
            "copying roi_data_layer/minibatch.py -> build/lib.linux-x86_64-3.6/roi_data_layer\n",
            "copying roi_data_layer/__init__.py -> build/lib.linux-x86_64-3.6/roi_data_layer\n",
            "creating build/lib.linux-x86_64-3.6/model/rpn\n",
            "copying model/rpn/proposal_target_layer_cascade.py -> build/lib.linux-x86_64-3.6/model/rpn\n",
            "copying model/rpn/proposal_layer.py -> build/lib.linux-x86_64-3.6/model/rpn\n",
            "copying model/rpn/rpn.py -> build/lib.linux-x86_64-3.6/model/rpn\n",
            "copying model/rpn/anchor_target_layer.py -> build/lib.linux-x86_64-3.6/model/rpn\n",
            "copying model/rpn/generate_anchors.py -> build/lib.linux-x86_64-3.6/model/rpn\n",
            "copying model/rpn/__init__.py -> build/lib.linux-x86_64-3.6/model/rpn\n",
            "copying model/rpn/bbox_transform.py -> build/lib.linux-x86_64-3.6/model/rpn\n",
            "creating build/lib.linux-x86_64-3.6/model/roi_layers\n",
            "copying model/roi_layers/roi_pool.py -> build/lib.linux-x86_64-3.6/model/roi_layers\n",
            "copying model/roi_layers/roi_align.py -> build/lib.linux-x86_64-3.6/model/roi_layers\n",
            "copying model/roi_layers/__init__.py -> build/lib.linux-x86_64-3.6/model/roi_layers\n",
            "copying model/roi_layers/nms.py -> build/lib.linux-x86_64-3.6/model/roi_layers\n",
            "creating build/lib.linux-x86_64-3.6/model/roi_align\n",
            "copying model/roi_align/__init__.py -> build/lib.linux-x86_64-3.6/model/roi_align\n",
            "copying model/roi_align/build.py -> build/lib.linux-x86_64-3.6/model/roi_align\n",
            "creating build/lib.linux-x86_64-3.6/model/nms\n",
            "copying model/nms/nms_wrapper.py -> build/lib.linux-x86_64-3.6/model/nms\n",
            "copying model/nms/nms_gpu.py -> build/lib.linux-x86_64-3.6/model/nms\n",
            "copying model/nms/__init__.py -> build/lib.linux-x86_64-3.6/model/nms\n",
            "copying model/nms/nms_cpu.py -> build/lib.linux-x86_64-3.6/model/nms\n",
            "copying model/nms/build.py -> build/lib.linux-x86_64-3.6/model/nms\n",
            "creating build/lib.linux-x86_64-3.6/model/utils\n",
            "copying model/utils/net_utils.py -> build/lib.linux-x86_64-3.6/model/utils\n",
            "copying model/utils/logger.py -> build/lib.linux-x86_64-3.6/model/utils\n",
            "copying model/utils/blob.py -> build/lib.linux-x86_64-3.6/model/utils\n",
            "copying model/utils/__init__.py -> build/lib.linux-x86_64-3.6/model/utils\n",
            "copying model/utils/config.py -> build/lib.linux-x86_64-3.6/model/utils\n",
            "creating build/lib.linux-x86_64-3.6/model/roi_pooling\n",
            "copying model/roi_pooling/__init__.py -> build/lib.linux-x86_64-3.6/model/roi_pooling\n",
            "copying model/roi_pooling/build.py -> build/lib.linux-x86_64-3.6/model/roi_pooling\n",
            "creating build/lib.linux-x86_64-3.6/model/faster_rcnn\n",
            "copying model/faster_rcnn/resnet.py -> build/lib.linux-x86_64-3.6/model/faster_rcnn\n",
            "copying model/faster_rcnn/faster_rcnn.py -> build/lib.linux-x86_64-3.6/model/faster_rcnn\n",
            "copying model/faster_rcnn/vgg16.py -> build/lib.linux-x86_64-3.6/model/faster_rcnn\n",
            "copying model/faster_rcnn/__init__.py -> build/lib.linux-x86_64-3.6/model/faster_rcnn\n",
            "creating build/lib.linux-x86_64-3.6/model/roi_crop\n",
            "copying model/roi_crop/__init__.py -> build/lib.linux-x86_64-3.6/model/roi_crop\n",
            "copying model/roi_crop/build.py -> build/lib.linux-x86_64-3.6/model/roi_crop\n",
            "creating build/lib.linux-x86_64-3.6/model/roi_align/functions\n",
            "copying model/roi_align/functions/roi_align.py -> build/lib.linux-x86_64-3.6/model/roi_align/functions\n",
            "copying model/roi_align/functions/__init__.py -> build/lib.linux-x86_64-3.6/model/roi_align/functions\n",
            "creating build/lib.linux-x86_64-3.6/model/roi_align/modules\n",
            "copying model/roi_align/modules/roi_align.py -> build/lib.linux-x86_64-3.6/model/roi_align/modules\n",
            "copying model/roi_align/modules/__init__.py -> build/lib.linux-x86_64-3.6/model/roi_align/modules\n",
            "creating build/lib.linux-x86_64-3.6/model/roi_align/_ext\n",
            "copying model/roi_align/_ext/__init__.py -> build/lib.linux-x86_64-3.6/model/roi_align/_ext\n",
            "creating build/lib.linux-x86_64-3.6/model/roi_align/_ext/roi_align\n",
            "copying model/roi_align/_ext/roi_align/__init__.py -> build/lib.linux-x86_64-3.6/model/roi_align/_ext/roi_align\n",
            "creating build/lib.linux-x86_64-3.6/model/nms/_ext\n",
            "copying model/nms/_ext/__init__.py -> build/lib.linux-x86_64-3.6/model/nms/_ext\n",
            "creating build/lib.linux-x86_64-3.6/model/nms/_ext/nms\n",
            "copying model/nms/_ext/nms/__init__.py -> build/lib.linux-x86_64-3.6/model/nms/_ext/nms\n",
            "creating build/lib.linux-x86_64-3.6/model/roi_pooling/functions\n",
            "copying model/roi_pooling/functions/roi_pool.py -> build/lib.linux-x86_64-3.6/model/roi_pooling/functions\n",
            "copying model/roi_pooling/functions/__init__.py -> build/lib.linux-x86_64-3.6/model/roi_pooling/functions\n",
            "creating build/lib.linux-x86_64-3.6/model/roi_pooling/modules\n",
            "copying model/roi_pooling/modules/roi_pool.py -> build/lib.linux-x86_64-3.6/model/roi_pooling/modules\n",
            "copying model/roi_pooling/modules/__init__.py -> build/lib.linux-x86_64-3.6/model/roi_pooling/modules\n",
            "creating build/lib.linux-x86_64-3.6/model/roi_pooling/_ext\n",
            "copying model/roi_pooling/_ext/__init__.py -> build/lib.linux-x86_64-3.6/model/roi_pooling/_ext\n",
            "creating build/lib.linux-x86_64-3.6/model/roi_pooling/_ext/roi_pooling\n",
            "copying model/roi_pooling/_ext/roi_pooling/__init__.py -> build/lib.linux-x86_64-3.6/model/roi_pooling/_ext/roi_pooling\n",
            "creating build/lib.linux-x86_64-3.6/model/roi_crop/functions\n",
            "copying model/roi_crop/functions/gridgen.py -> build/lib.linux-x86_64-3.6/model/roi_crop/functions\n",
            "copying model/roi_crop/functions/roi_crop.py -> build/lib.linux-x86_64-3.6/model/roi_crop/functions\n",
            "copying model/roi_crop/functions/crop_resize.py -> build/lib.linux-x86_64-3.6/model/roi_crop/functions\n",
            "copying model/roi_crop/functions/__init__.py -> build/lib.linux-x86_64-3.6/model/roi_crop/functions\n",
            "creating build/lib.linux-x86_64-3.6/model/roi_crop/modules\n",
            "copying model/roi_crop/modules/gridgen.py -> build/lib.linux-x86_64-3.6/model/roi_crop/modules\n",
            "copying model/roi_crop/modules/roi_crop.py -> build/lib.linux-x86_64-3.6/model/roi_crop/modules\n",
            "copying model/roi_crop/modules/__init__.py -> build/lib.linux-x86_64-3.6/model/roi_crop/modules\n",
            "creating build/lib.linux-x86_64-3.6/model/roi_crop/_ext\n",
            "copying model/roi_crop/_ext/__init__.py -> build/lib.linux-x86_64-3.6/model/roi_crop/_ext\n",
            "creating build/lib.linux-x86_64-3.6/model/roi_crop/_ext/crop_resize\n",
            "copying model/roi_crop/_ext/crop_resize/__init__.py -> build/lib.linux-x86_64-3.6/model/roi_crop/_ext/crop_resize\n",
            "creating build/lib.linux-x86_64-3.6/model/roi_crop/_ext/roi_crop\n",
            "copying model/roi_crop/_ext/roi_crop/__init__.py -> build/lib.linux-x86_64-3.6/model/roi_crop/_ext/roi_crop\n",
            "running build_ext\n",
            "building 'model._C' extension\n",
            "creating build/temp.linux-x86_64-3.6\n",
            "creating build/temp.linux-x86_64-3.6/content\n",
            "creating build/temp.linux-x86_64-3.6/content/faster-rcnn.pytorch\n",
            "creating build/temp.linux-x86_64-3.6/content/faster-rcnn.pytorch/lib\n",
            "creating build/temp.linux-x86_64-3.6/content/faster-rcnn.pytorch/lib/model\n",
            "creating build/temp.linux-x86_64-3.6/content/faster-rcnn.pytorch/lib/model/csrc\n",
            "creating build/temp.linux-x86_64-3.6/content/faster-rcnn.pytorch/lib/model/csrc/cpu\n",
            "creating build/temp.linux-x86_64-3.6/content/faster-rcnn.pytorch/lib/model/csrc/cuda\n",
            "x86_64-linux-gnu-gcc -pthread -DNDEBUG -g -fwrapv -O2 -Wall -g -fstack-protector-strong -Wformat -Werror=format-security -Wdate-time -D_FORTIFY_SOURCE=2 -fPIC -DWITH_CUDA -I/content/faster-rcnn.pytorch/lib/model/csrc -I/usr/local/lib/python3.6/dist-packages/torch/lib/include -I/usr/local/lib/python3.6/dist-packages/torch/lib/include/torch/csrc/api/include -I/usr/local/lib/python3.6/dist-packages/torch/lib/include/TH -I/usr/local/lib/python3.6/dist-packages/torch/lib/include/THC -I/usr/local/cuda/include -I/usr/include/python3.6m -c /content/faster-rcnn.pytorch/lib/model/csrc/vision.cpp -o build/temp.linux-x86_64-3.6/content/faster-rcnn.pytorch/lib/model/csrc/vision.o -DTORCH_API_INCLUDE_EXTENSION_H -DTORCH_EXTENSION_NAME=_C -D_GLIBCXX_USE_CXX11_ABI=0 -std=c++11\n",
            "x86_64-linux-gnu-gcc -pthread -DNDEBUG -g -fwrapv -O2 -Wall -g -fstack-protector-strong -Wformat -Werror=format-security -Wdate-time -D_FORTIFY_SOURCE=2 -fPIC -DWITH_CUDA -I/content/faster-rcnn.pytorch/lib/model/csrc -I/usr/local/lib/python3.6/dist-packages/torch/lib/include -I/usr/local/lib/python3.6/dist-packages/torch/lib/include/torch/csrc/api/include -I/usr/local/lib/python3.6/dist-packages/torch/lib/include/TH -I/usr/local/lib/python3.6/dist-packages/torch/lib/include/THC -I/usr/local/cuda/include -I/usr/include/python3.6m -c /content/faster-rcnn.pytorch/lib/model/csrc/cpu/nms_cpu.cpp -o build/temp.linux-x86_64-3.6/content/faster-rcnn.pytorch/lib/model/csrc/cpu/nms_cpu.o -DTORCH_API_INCLUDE_EXTENSION_H -DTORCH_EXTENSION_NAME=_C -D_GLIBCXX_USE_CXX11_ABI=0 -std=c++11\n",
            "x86_64-linux-gnu-gcc -pthread -DNDEBUG -g -fwrapv -O2 -Wall -g -fstack-protector-strong -Wformat -Werror=format-security -Wdate-time -D_FORTIFY_SOURCE=2 -fPIC -DWITH_CUDA -I/content/faster-rcnn.pytorch/lib/model/csrc -I/usr/local/lib/python3.6/dist-packages/torch/lib/include -I/usr/local/lib/python3.6/dist-packages/torch/lib/include/torch/csrc/api/include -I/usr/local/lib/python3.6/dist-packages/torch/lib/include/TH -I/usr/local/lib/python3.6/dist-packages/torch/lib/include/THC -I/usr/local/cuda/include -I/usr/include/python3.6m -c /content/faster-rcnn.pytorch/lib/model/csrc/cpu/ROIAlign_cpu.cpp -o build/temp.linux-x86_64-3.6/content/faster-rcnn.pytorch/lib/model/csrc/cpu/ROIAlign_cpu.o -DTORCH_API_INCLUDE_EXTENSION_H -DTORCH_EXTENSION_NAME=_C -D_GLIBCXX_USE_CXX11_ABI=0 -std=c++11\n",
            "/usr/local/cuda/bin/nvcc -DWITH_CUDA -I/content/faster-rcnn.pytorch/lib/model/csrc -I/usr/local/lib/python3.6/dist-packages/torch/lib/include -I/usr/local/lib/python3.6/dist-packages/torch/lib/include/torch/csrc/api/include -I/usr/local/lib/python3.6/dist-packages/torch/lib/include/TH -I/usr/local/lib/python3.6/dist-packages/torch/lib/include/THC -I/usr/local/cuda/include -I/usr/include/python3.6m -c /content/faster-rcnn.pytorch/lib/model/csrc/cuda/nms.cu -o build/temp.linux-x86_64-3.6/content/faster-rcnn.pytorch/lib/model/csrc/cuda/nms.o -D__CUDA_NO_HALF_OPERATORS__ -D__CUDA_NO_HALF_CONVERSIONS__ -D__CUDA_NO_HALF2_OPERATORS__ --compiler-options '-fPIC' -DCUDA_HAS_FP16=1 -D__CUDA_NO_HALF_OPERATORS__ -D__CUDA_NO_HALF_CONVERSIONS__ -D__CUDA_NO_HALF2_OPERATORS__ -DTORCH_API_INCLUDE_EXTENSION_H -DTORCH_EXTENSION_NAME=_C -D_GLIBCXX_USE_CXX11_ABI=0 -std=c++11\n",
            "/usr/local/cuda/bin/nvcc -DWITH_CUDA -I/content/faster-rcnn.pytorch/lib/model/csrc -I/usr/local/lib/python3.6/dist-packages/torch/lib/include -I/usr/local/lib/python3.6/dist-packages/torch/lib/include/torch/csrc/api/include -I/usr/local/lib/python3.6/dist-packages/torch/lib/include/TH -I/usr/local/lib/python3.6/dist-packages/torch/lib/include/THC -I/usr/local/cuda/include -I/usr/include/python3.6m -c /content/faster-rcnn.pytorch/lib/model/csrc/cuda/ROIAlign_cuda.cu -o build/temp.linux-x86_64-3.6/content/faster-rcnn.pytorch/lib/model/csrc/cuda/ROIAlign_cuda.o -D__CUDA_NO_HALF_OPERATORS__ -D__CUDA_NO_HALF_CONVERSIONS__ -D__CUDA_NO_HALF2_OPERATORS__ --compiler-options '-fPIC' -DCUDA_HAS_FP16=1 -D__CUDA_NO_HALF_OPERATORS__ -D__CUDA_NO_HALF_CONVERSIONS__ -D__CUDA_NO_HALF2_OPERATORS__ -DTORCH_API_INCLUDE_EXTENSION_H -DTORCH_EXTENSION_NAME=_C -D_GLIBCXX_USE_CXX11_ABI=0 -std=c++11\n",
            "/usr/local/cuda/bin/nvcc -DWITH_CUDA -I/content/faster-rcnn.pytorch/lib/model/csrc -I/usr/local/lib/python3.6/dist-packages/torch/lib/include -I/usr/local/lib/python3.6/dist-packages/torch/lib/include/torch/csrc/api/include -I/usr/local/lib/python3.6/dist-packages/torch/lib/include/TH -I/usr/local/lib/python3.6/dist-packages/torch/lib/include/THC -I/usr/local/cuda/include -I/usr/include/python3.6m -c /content/faster-rcnn.pytorch/lib/model/csrc/cuda/ROIPool_cuda.cu -o build/temp.linux-x86_64-3.6/content/faster-rcnn.pytorch/lib/model/csrc/cuda/ROIPool_cuda.o -D__CUDA_NO_HALF_OPERATORS__ -D__CUDA_NO_HALF_CONVERSIONS__ -D__CUDA_NO_HALF2_OPERATORS__ --compiler-options '-fPIC' -DCUDA_HAS_FP16=1 -D__CUDA_NO_HALF_OPERATORS__ -D__CUDA_NO_HALF_CONVERSIONS__ -D__CUDA_NO_HALF2_OPERATORS__ -DTORCH_API_INCLUDE_EXTENSION_H -DTORCH_EXTENSION_NAME=_C -D_GLIBCXX_USE_CXX11_ABI=0 -std=c++11\n",
            "x86_64-linux-gnu-g++ -pthread -shared -Wl,-O1 -Wl,-Bsymbolic-functions -Wl,-Bsymbolic-functions -Wl,-z,relro -Wl,-Bsymbolic-functions -Wl,-z,relro -g -fstack-protector-strong -Wformat -Werror=format-security -Wdate-time -D_FORTIFY_SOURCE=2 build/temp.linux-x86_64-3.6/content/faster-rcnn.pytorch/lib/model/csrc/vision.o build/temp.linux-x86_64-3.6/content/faster-rcnn.pytorch/lib/model/csrc/cpu/nms_cpu.o build/temp.linux-x86_64-3.6/content/faster-rcnn.pytorch/lib/model/csrc/cpu/ROIAlign_cpu.o build/temp.linux-x86_64-3.6/content/faster-rcnn.pytorch/lib/model/csrc/cuda/nms.o build/temp.linux-x86_64-3.6/content/faster-rcnn.pytorch/lib/model/csrc/cuda/ROIAlign_cuda.o build/temp.linux-x86_64-3.6/content/faster-rcnn.pytorch/lib/model/csrc/cuda/ROIPool_cuda.o -L/usr/local/cuda/lib64 -lcudart -o build/lib.linux-x86_64-3.6/model/_C.cpython-36m-x86_64-linux-gnu.so\n",
            "running develop\n",
            "running egg_info\n",
            "creating faster_rcnn.egg-info\n",
            "writing faster_rcnn.egg-info/PKG-INFO\n",
            "writing dependency_links to faster_rcnn.egg-info/dependency_links.txt\n",
            "writing top-level names to faster_rcnn.egg-info/top_level.txt\n",
            "writing manifest file 'faster_rcnn.egg-info/SOURCES.txt'\n",
            "writing manifest file 'faster_rcnn.egg-info/SOURCES.txt'\n",
            "running build_ext\n",
            "copying build/lib.linux-x86_64-3.6/model/_C.cpython-36m-x86_64-linux-gnu.so -> model\n",
            "Creating /usr/local/lib/python3.6/dist-packages/faster-rcnn.egg-link (link to .)\n",
            "Adding faster-rcnn 0.1 to easy-install.pth file\n",
            "\n",
            "Installed /content/faster-rcnn.pytorch/lib\n",
            "Processing dependencies for faster-rcnn==0.1\n",
            "Finished processing dependencies for faster-rcnn==0.1\n"
          ],
          "name": "stdout"
        }
      ]
    },
    {
      "cell_type": "code",
      "metadata": {
        "id": "9-V_p6YiaKgZ",
        "colab_type": "code",
        "colab": {
          "base_uri": "https://localhost:8080/",
          "height": 380
        },
        "outputId": "f203d327-16e6-4bf2-edcc-e0c267092dc0"
      },
      "source": [
        "!pip uninstall scipy\n",
        "!pip install scipy==1.1.0"
      ],
      "execution_count": 35,
      "outputs": [
        {
          "output_type": "stream",
          "text": [
            "Uninstalling scipy-1.4.1:\n",
            "  Would remove:\n",
            "    /usr/local/lib/python3.6/dist-packages/scipy-1.4.1.dist-info/*\n",
            "    /usr/local/lib/python3.6/dist-packages/scipy/*\n",
            "Proceed (y/n)? y\n",
            "  Successfully uninstalled scipy-1.4.1\n",
            "Collecting scipy==1.1.0\n",
            "\u001b[?25l  Downloading https://files.pythonhosted.org/packages/a8/0b/f163da98d3a01b3e0ef1cab8dd2123c34aee2bafbb1c5bffa354cc8a1730/scipy-1.1.0-cp36-cp36m-manylinux1_x86_64.whl (31.2MB)\n",
            "\u001b[K     |████████████████████████████████| 31.2MB 97kB/s \n",
            "\u001b[?25hRequirement already satisfied: numpy>=1.8.2 in /usr/local/lib/python3.6/dist-packages (from scipy==1.1.0) (1.17.5)\n",
            "\u001b[31mERROR: plotnine 0.6.0 has requirement scipy>=1.2.0, but you'll have scipy 1.1.0 which is incompatible.\u001b[0m\n",
            "\u001b[31mERROR: albumentations 0.1.12 has requirement imgaug<0.2.7,>=0.2.5, but you'll have imgaug 0.2.9 which is incompatible.\u001b[0m\n",
            "Installing collected packages: scipy\n",
            "Successfully installed scipy-1.1.0\n"
          ],
          "name": "stdout"
        },
        {
          "output_type": "display_data",
          "data": {
            "application/vnd.colab-display-data+json": {
              "pip_warning": {
                "packages": [
                  "scipy"
                ]
              }
            }
          },
          "metadata": {
            "tags": []
          }
        }
      ]
    },
    {
      "cell_type": "code",
      "metadata": {
        "id": "463El9CUfItS",
        "colab_type": "code",
        "outputId": "82156e8e-c190-4b92-df27-8c83f03d1874",
        "colab": {
          "base_uri": "https://localhost:8080/",
          "height": 53
        }
      },
      "source": [
        "!ls"
      ],
      "execution_count": 14,
      "outputs": [
        {
          "output_type": "stream",
          "text": [
            "build\t  faster_rcnn.egg-info\tpycocotools\tsetup.py\n",
            "datasets  model\t\t\troi_data_layer\n"
          ],
          "name": "stdout"
        }
      ]
    },
    {
      "cell_type": "markdown",
      "metadata": {
        "id": "aj3gT3qHeoEO",
        "colab_type": "text"
      },
      "source": [
        "#Train"
      ]
    },
    {
      "cell_type": "code",
      "metadata": {
        "id": "zCwHPPmvc7Hr",
        "colab_type": "code",
        "colab": {}
      },
      "source": [
        "import os\n",
        "os.chdir(\"/content/faster-rcnn.pytorch\")\n",
        "!pwd"
      ],
      "execution_count": 0,
      "outputs": []
    },
    {
      "cell_type": "markdown",
      "metadata": {
        "id": "sJRyLLMnc_JH",
        "colab_type": "text"
      },
      "source": [
        "# Change the folder name 'VOCdevkit' to 'VOCdevkit2007' in faster-rcnn.pytorch/data"
      ]
    },
    {
      "cell_type": "code",
      "metadata": {
        "id": "IAcFKKVYZFvc",
        "colab_type": "code",
        "outputId": "57dece3f-0472-416a-94c0-4487f2825e03",
        "colab": {
          "base_uri": "https://localhost:8080/",
          "height": 35
        }
      },
      "source": [
        "# vgg 16\n",
        "# !CUDA_VISIBLE_DEVICES=0 python lib/trainval_net.py \\\n",
        "#                    --dataset pascal_voc --net vgg16 \\\n",
        "#                    --bs 16 --nw 12 \\\n",
        "#                    --lr 0.001 --lr_decay_step 5 \\\n",
        "#                    --cuda"
      ],
      "execution_count": 0,
      "outputs": [
        {
          "output_type": "stream",
          "text": [
            "python3: can't open file 'trainval_net.py': [Errno 2] No such file or directory\n"
          ],
          "name": "stdout"
        }
      ]
    },
    {
      "cell_type": "code",
      "metadata": {
        "id": "rta5cqnQem4Q",
        "colab_type": "code",
        "colab": {
          "base_uri": "https://localhost:8080/",
          "height": 522
        },
        "outputId": "9ab436cc-2617-418a-8742-ed250b920e1d"
      },
      "source": [
        "# pascal_vod\n",
        "!CUDA_VISIBLE_DEVICES=0 python trainval_net.py \\\n",
        "                   --dataset pascal_voc --net res101 \\\n",
        "                   --bs 4 --nw 12 \\\n",
        "                   --lr 0.001 --lr_decay_step 5 \\\n",
        "                   --cuda"
      ],
      "execution_count": 44,
      "outputs": [
        {
          "output_type": "stream",
          "text": [
            "[session 1][epoch  1][iter  100/2505] loss: 1.7132, lr: 1.00e-03\n",
            "\t\t\tfg/bg=(109/403), time cost: 270.678101\n",
            "\t\t\trpn_cls: 0.2013, rpn_box: 0.0785, rcnn_cls: 0.6256, rcnn_box 0.5032\n",
            "[session 1][epoch  1][iter  200/2505] loss: 1.3392, lr: 1.00e-03\n",
            "\t\t\tfg/bg=(105/407), time cost: 269.177291\n",
            "\t\t\trpn_cls: 0.1757, rpn_box: 0.1010, rcnn_cls: 0.4376, rcnn_box 0.5081\n",
            "Traceback (most recent call last):\n",
            "  File \"trainval_net.py\", line 312, in <module>\n",
            "    im_data.resize_(data[0].size()).copy_(data[0])\n",
            "KeyboardInterrupt\n"
          ],
          "name": "stdout"
        },
        {
          "output_type": "error",
          "ename": "KeyboardInterrupt",
          "evalue": "ignored",
          "traceback": [
            "\u001b[0;31m---------------------------------------------------------------------------\u001b[0m",
            "\u001b[0;31mKeyboardInterrupt\u001b[0m                         Traceback (most recent call last)",
            "\u001b[0;32m<ipython-input-44-86199da97eb8>\u001b[0m in \u001b[0;36m<module>\u001b[0;34m()\u001b[0m\n\u001b[0;32m----> 1\u001b[0;31m \u001b[0mget_ipython\u001b[0m\u001b[0;34m(\u001b[0m\u001b[0;34m)\u001b[0m\u001b[0;34m.\u001b[0m\u001b[0msystem\u001b[0m\u001b[0;34m(\u001b[0m\u001b[0;34m'CUDA_VISIBLE_DEVICES=0 python trainval_net.py                    --dataset pascal_voc --net res101                    --bs 4 --nw 12                    --lr 0.001 --lr_decay_step 5                    --cuda'\u001b[0m\u001b[0;34m)\u001b[0m\u001b[0;34m\u001b[0m\u001b[0;34m\u001b[0m\u001b[0m\n\u001b[0m",
            "\u001b[0;32m/usr/local/lib/python3.6/dist-packages/google/colab/_shell.py\u001b[0m in \u001b[0;36msystem\u001b[0;34m(self, *args, **kwargs)\u001b[0m\n\u001b[1;32m     94\u001b[0m       \u001b[0mkwargs\u001b[0m\u001b[0;34m.\u001b[0m\u001b[0mupdate\u001b[0m\u001b[0;34m(\u001b[0m\u001b[0;34m{\u001b[0m\u001b[0;34m'also_return_output'\u001b[0m\u001b[0;34m:\u001b[0m \u001b[0;32mTrue\u001b[0m\u001b[0;34m}\u001b[0m\u001b[0;34m)\u001b[0m\u001b[0;34m\u001b[0m\u001b[0;34m\u001b[0m\u001b[0m\n\u001b[1;32m     95\u001b[0m \u001b[0;34m\u001b[0m\u001b[0m\n\u001b[0;32m---> 96\u001b[0;31m     \u001b[0moutput\u001b[0m \u001b[0;34m=\u001b[0m \u001b[0m_system_commands\u001b[0m\u001b[0;34m.\u001b[0m\u001b[0m_system_compat\u001b[0m\u001b[0;34m(\u001b[0m\u001b[0mself\u001b[0m\u001b[0;34m,\u001b[0m \u001b[0;34m*\u001b[0m\u001b[0margs\u001b[0m\u001b[0;34m,\u001b[0m \u001b[0;34m**\u001b[0m\u001b[0mkwargs\u001b[0m\u001b[0;34m)\u001b[0m  \u001b[0;31m# pylint:disable=protected-access\u001b[0m\u001b[0;34m\u001b[0m\u001b[0;34m\u001b[0m\u001b[0m\n\u001b[0m\u001b[1;32m     97\u001b[0m \u001b[0;34m\u001b[0m\u001b[0m\n\u001b[1;32m     98\u001b[0m     \u001b[0;32mif\u001b[0m \u001b[0mpip_warn\u001b[0m\u001b[0;34m:\u001b[0m\u001b[0;34m\u001b[0m\u001b[0;34m\u001b[0m\u001b[0m\n",
            "\u001b[0;32m/usr/local/lib/python3.6/dist-packages/google/colab/_system_commands.py\u001b[0m in \u001b[0;36m_system_compat\u001b[0;34m(shell, cmd, also_return_output)\u001b[0m\n\u001b[1;32m    436\u001b[0m   \u001b[0;31m# stack.\u001b[0m\u001b[0;34m\u001b[0m\u001b[0;34m\u001b[0m\u001b[0;34m\u001b[0m\u001b[0m\n\u001b[1;32m    437\u001b[0m   result = _run_command(\n\u001b[0;32m--> 438\u001b[0;31m       shell.var_expand(cmd, depth=2), clear_streamed_output=False)\n\u001b[0m\u001b[1;32m    439\u001b[0m   \u001b[0mshell\u001b[0m\u001b[0;34m.\u001b[0m\u001b[0muser_ns\u001b[0m\u001b[0;34m[\u001b[0m\u001b[0;34m'_exit_code'\u001b[0m\u001b[0;34m]\u001b[0m \u001b[0;34m=\u001b[0m \u001b[0mresult\u001b[0m\u001b[0;34m.\u001b[0m\u001b[0mreturncode\u001b[0m\u001b[0;34m\u001b[0m\u001b[0;34m\u001b[0m\u001b[0m\n\u001b[1;32m    440\u001b[0m   \u001b[0;32mif\u001b[0m \u001b[0;34m-\u001b[0m\u001b[0mresult\u001b[0m\u001b[0;34m.\u001b[0m\u001b[0mreturncode\u001b[0m \u001b[0;32min\u001b[0m \u001b[0m_INTERRUPTED_SIGNALS\u001b[0m\u001b[0;34m:\u001b[0m\u001b[0;34m\u001b[0m\u001b[0;34m\u001b[0m\u001b[0m\n",
            "\u001b[0;32m/usr/local/lib/python3.6/dist-packages/google/colab/_system_commands.py\u001b[0m in \u001b[0;36m_run_command\u001b[0;34m(cmd, clear_streamed_output)\u001b[0m\n\u001b[1;32m    193\u001b[0m       \u001b[0mos\u001b[0m\u001b[0;34m.\u001b[0m\u001b[0mclose\u001b[0m\u001b[0;34m(\u001b[0m\u001b[0mchild_pty\u001b[0m\u001b[0;34m)\u001b[0m\u001b[0;34m\u001b[0m\u001b[0;34m\u001b[0m\u001b[0m\n\u001b[1;32m    194\u001b[0m \u001b[0;34m\u001b[0m\u001b[0m\n\u001b[0;32m--> 195\u001b[0;31m       \u001b[0;32mreturn\u001b[0m \u001b[0m_monitor_process\u001b[0m\u001b[0;34m(\u001b[0m\u001b[0mparent_pty\u001b[0m\u001b[0;34m,\u001b[0m \u001b[0mepoll\u001b[0m\u001b[0;34m,\u001b[0m \u001b[0mp\u001b[0m\u001b[0;34m,\u001b[0m \u001b[0mcmd\u001b[0m\u001b[0;34m,\u001b[0m \u001b[0mupdate_stdin_widget\u001b[0m\u001b[0;34m)\u001b[0m\u001b[0;34m\u001b[0m\u001b[0;34m\u001b[0m\u001b[0m\n\u001b[0m\u001b[1;32m    196\u001b[0m   \u001b[0;32mfinally\u001b[0m\u001b[0;34m:\u001b[0m\u001b[0;34m\u001b[0m\u001b[0;34m\u001b[0m\u001b[0m\n\u001b[1;32m    197\u001b[0m     \u001b[0mepoll\u001b[0m\u001b[0;34m.\u001b[0m\u001b[0mclose\u001b[0m\u001b[0;34m(\u001b[0m\u001b[0;34m)\u001b[0m\u001b[0;34m\u001b[0m\u001b[0;34m\u001b[0m\u001b[0m\n",
            "\u001b[0;32m/usr/lib/python3.6/contextlib.py\u001b[0m in \u001b[0;36m__exit__\u001b[0;34m(self, type, value, traceback)\u001b[0m\n\u001b[1;32m     86\u001b[0m         \u001b[0;32mif\u001b[0m \u001b[0mtype\u001b[0m \u001b[0;32mis\u001b[0m \u001b[0;32mNone\u001b[0m\u001b[0;34m:\u001b[0m\u001b[0;34m\u001b[0m\u001b[0;34m\u001b[0m\u001b[0m\n\u001b[1;32m     87\u001b[0m             \u001b[0;32mtry\u001b[0m\u001b[0;34m:\u001b[0m\u001b[0;34m\u001b[0m\u001b[0;34m\u001b[0m\u001b[0m\n\u001b[0;32m---> 88\u001b[0;31m                 \u001b[0mnext\u001b[0m\u001b[0;34m(\u001b[0m\u001b[0mself\u001b[0m\u001b[0;34m.\u001b[0m\u001b[0mgen\u001b[0m\u001b[0;34m)\u001b[0m\u001b[0;34m\u001b[0m\u001b[0;34m\u001b[0m\u001b[0m\n\u001b[0m\u001b[1;32m     89\u001b[0m             \u001b[0;32mexcept\u001b[0m \u001b[0mStopIteration\u001b[0m\u001b[0;34m:\u001b[0m\u001b[0;34m\u001b[0m\u001b[0;34m\u001b[0m\u001b[0m\n\u001b[1;32m     90\u001b[0m                 \u001b[0;32mreturn\u001b[0m \u001b[0;32mFalse\u001b[0m\u001b[0;34m\u001b[0m\u001b[0;34m\u001b[0m\u001b[0m\n",
            "\u001b[0;32m/usr/local/lib/python3.6/dist-packages/google/colab/_system_commands.py\u001b[0m in \u001b[0;36m_display_stdin_widget\u001b[0;34m(delay_millis)\u001b[0m\n\u001b[1;32m    353\u001b[0m \u001b[0;34m\u001b[0m\u001b[0m\n\u001b[1;32m    354\u001b[0m   \u001b[0mhide_args\u001b[0m \u001b[0;34m=\u001b[0m \u001b[0;34m[\u001b[0m\u001b[0;34m'cell_remove_stdin'\u001b[0m\u001b[0;34m,\u001b[0m \u001b[0;34m{\u001b[0m\u001b[0;34m}\u001b[0m\u001b[0;34m]\u001b[0m\u001b[0;34m\u001b[0m\u001b[0;34m\u001b[0m\u001b[0m\n\u001b[0;32m--> 355\u001b[0;31m   \u001b[0m_message\u001b[0m\u001b[0;34m.\u001b[0m\u001b[0mblocking_request\u001b[0m\u001b[0;34m(\u001b[0m\u001b[0;34m*\u001b[0m\u001b[0mhide_args\u001b[0m\u001b[0;34m,\u001b[0m \u001b[0mparent\u001b[0m\u001b[0;34m=\u001b[0m\u001b[0mshell\u001b[0m\u001b[0;34m.\u001b[0m\u001b[0mparent_header\u001b[0m\u001b[0;34m)\u001b[0m\u001b[0;34m\u001b[0m\u001b[0;34m\u001b[0m\u001b[0m\n\u001b[0m\u001b[1;32m    356\u001b[0m \u001b[0;34m\u001b[0m\u001b[0m\n\u001b[1;32m    357\u001b[0m \u001b[0;34m\u001b[0m\u001b[0m\n",
            "\u001b[0;32m/usr/local/lib/python3.6/dist-packages/google/colab/_message.py\u001b[0m in \u001b[0;36mblocking_request\u001b[0;34m(request_type, request, timeout_sec, parent)\u001b[0m\n\u001b[1;32m    169\u001b[0m   \u001b[0;31m# unique.\u001b[0m\u001b[0;34m\u001b[0m\u001b[0;34m\u001b[0m\u001b[0;34m\u001b[0m\u001b[0m\n\u001b[1;32m    170\u001b[0m   \u001b[0mrequest_id\u001b[0m \u001b[0;34m=\u001b[0m \u001b[0msend_request\u001b[0m\u001b[0;34m(\u001b[0m\u001b[0mrequest_type\u001b[0m\u001b[0;34m,\u001b[0m \u001b[0mrequest\u001b[0m\u001b[0;34m,\u001b[0m \u001b[0mparent\u001b[0m\u001b[0;34m=\u001b[0m\u001b[0mparent\u001b[0m\u001b[0;34m)\u001b[0m\u001b[0;34m\u001b[0m\u001b[0;34m\u001b[0m\u001b[0m\n\u001b[0;32m--> 171\u001b[0;31m   \u001b[0;32mreturn\u001b[0m \u001b[0mread_reply_from_input\u001b[0m\u001b[0;34m(\u001b[0m\u001b[0mrequest_id\u001b[0m\u001b[0;34m,\u001b[0m \u001b[0mtimeout_sec\u001b[0m\u001b[0;34m)\u001b[0m\u001b[0;34m\u001b[0m\u001b[0;34m\u001b[0m\u001b[0m\n\u001b[0m",
            "\u001b[0;32m/usr/local/lib/python3.6/dist-packages/google/colab/_message.py\u001b[0m in \u001b[0;36mread_reply_from_input\u001b[0;34m(message_id, timeout_sec)\u001b[0m\n\u001b[1;32m     99\u001b[0m     \u001b[0mreply\u001b[0m \u001b[0;34m=\u001b[0m \u001b[0m_read_next_input_message\u001b[0m\u001b[0;34m(\u001b[0m\u001b[0;34m)\u001b[0m\u001b[0;34m\u001b[0m\u001b[0;34m\u001b[0m\u001b[0m\n\u001b[1;32m    100\u001b[0m     \u001b[0;32mif\u001b[0m \u001b[0mreply\u001b[0m \u001b[0;34m==\u001b[0m \u001b[0m_NOT_READY\u001b[0m \u001b[0;32mor\u001b[0m \u001b[0;32mnot\u001b[0m \u001b[0misinstance\u001b[0m\u001b[0;34m(\u001b[0m\u001b[0mreply\u001b[0m\u001b[0;34m,\u001b[0m \u001b[0mdict\u001b[0m\u001b[0;34m)\u001b[0m\u001b[0;34m:\u001b[0m\u001b[0;34m\u001b[0m\u001b[0;34m\u001b[0m\u001b[0m\n\u001b[0;32m--> 101\u001b[0;31m       \u001b[0mtime\u001b[0m\u001b[0;34m.\u001b[0m\u001b[0msleep\u001b[0m\u001b[0;34m(\u001b[0m\u001b[0;36m0.025\u001b[0m\u001b[0;34m)\u001b[0m\u001b[0;34m\u001b[0m\u001b[0;34m\u001b[0m\u001b[0m\n\u001b[0m\u001b[1;32m    102\u001b[0m       \u001b[0;32mcontinue\u001b[0m\u001b[0;34m\u001b[0m\u001b[0;34m\u001b[0m\u001b[0m\n\u001b[1;32m    103\u001b[0m     if (reply.get('type') == 'colab_reply' and\n",
            "\u001b[0;31mKeyboardInterrupt\u001b[0m: "
          ]
        }
      ]
    },
    {
      "cell_type": "code",
      "metadata": {
        "id": "vLcQK9d1er2f",
        "colab_type": "code",
        "colab": {}
      },
      "source": [
        "# python trainval_net.py --dataset pascal_voc --net vgg16 \\\n",
        "#                        --bs 24 --nw 8 \\\n",
        "#                        --lr $LEARNING_RATE --lr_decay_step $DECAY_STEP \\\n",
        "#                        --cuda --mGPUs"
      ],
      "execution_count": 0,
      "outputs": []
    },
    {
      "cell_type": "markdown",
      "metadata": {
        "id": "Ux2GYqRkeqYa",
        "colab_type": "text"
      },
      "source": [
        "#Test"
      ]
    },
    {
      "cell_type": "code",
      "metadata": {
        "id": "KZLnoVRjelZ9",
        "colab_type": "code",
        "colab": {}
      },
      "source": [
        "python demo.py --net res101 \\\n",
        "               --checksession 1 --checkepoch 2 --checkpoint 2504 \\\n",
        "               --cuda --load_dir /models"
      ],
      "execution_count": 0,
      "outputs": []
    }
  ]
}